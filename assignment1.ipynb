{
 "cells": [
  {
   "cell_type": "code",
   "execution_count": 2,
   "id": "9ec88fb2-d77c-44ea-a0a2-959a89800ec9",
   "metadata": {},
   "outputs": [
    {
     "name": "stdin",
     "output_type": "stream",
     "text": [
      "enter an integer 10\n"
     ]
    },
    {
     "name": "stdout",
     "output_type": "stream",
     "text": [
      "the integer number is:  10\n",
      "the corresponding floating number is:  10.0\n"
     ]
    }
   ],
   "source": [
    "#convert an integer to float point number\n",
    "a=int(input(\"enter an integer\"))\n",
    "print(\"the integer number is: \",a)\n",
    "print(\"the corresponding floating number is: \",float(a))"
   ]
  },
  {
   "cell_type": "code",
   "execution_count": 3,
   "id": "6f22627c-3eaf-4273-a296-a60d35bf7998",
   "metadata": {},
   "outputs": [
    {
     "name": "stdin",
     "output_type": "stream",
     "text": [
      "enter an float 10.0\n"
     ]
    },
    {
     "name": "stdout",
     "output_type": "stream",
     "text": [
      "the floating number is:  10.0\n",
      "the corresponding integer number is:  10\n"
     ]
    }
   ],
   "source": [
    "#Convet a float to an integer\n",
    "a=float(input(\"enter an float\"))\n",
    "print(\"the floating number is: \",a)\n",
    "print(\"the corresponding integer number is: \",int(a))\n"
   ]
  },
  {
   "cell_type": "code",
   "execution_count": 4,
   "id": "40bfcec5-1825-4a45-b819-70c5c3361531",
   "metadata": {},
   "outputs": [
    {
     "name": "stdin",
     "output_type": "stream",
     "text": [
      "enter an integer 10\n"
     ]
    },
    {
     "name": "stdout",
     "output_type": "stream",
     "text": [
      "the integer number is:  10\n",
      "the string number is:  10\n"
     ]
    }
   ],
   "source": [
    "#convert an integer to a string\n",
    "a=int(input(\"enter an integer\"))\n",
    "print(\"the integer number is: \",a)\n",
    "b=str(a)\n",
    "print(\"the string number is: \",b)"
   ]
  },
  {
   "cell_type": "code",
   "execution_count": 5,
   "id": "f0b0613c-529e-4371-91b7-c920c07708e4",
   "metadata": {},
   "outputs": [
    {
     "name": "stdout",
     "output_type": "stream",
     "text": [
      "[1, 2, 'okok', 9, 11]\n",
      "(1, 2, 'okok', 9, 11)\n"
     ]
    }
   ],
   "source": [
    "#list-------->tuple\n",
    "n_list=[1,2,\"okok\",9,11]\n",
    "print(n_list)\n",
    "tup=tuple(n_list)\n",
    "print(tup)"
   ]
  },
  {
   "cell_type": "code",
   "execution_count": 6,
   "id": "7f737837-f390-4b55-b7fd-f4f33e71023d",
   "metadata": {},
   "outputs": [
    {
     "name": "stdout",
     "output_type": "stream",
     "text": [
      "[1, 2, 'okok', 9, 11]\n"
     ]
    }
   ],
   "source": [
    "#tuple-------->list\n",
    "m_list=list(tup)\n",
    "print(m_list)"
   ]
  },
  {
   "cell_type": "code",
   "execution_count": 7,
   "id": "aeab1a1f-4142-4072-adf9-2b3db7718403",
   "metadata": {},
   "outputs": [
    {
     "name": "stdin",
     "output_type": "stream",
     "text": [
      "enter a number to be converted to binary : 10\n"
     ]
    },
    {
     "name": "stdout",
     "output_type": "stream",
     "text": [
      "10\n",
      "corresponding binary number is :  0b1010\n"
     ]
    }
   ],
   "source": [
    "#convert a decimal number to binary \n",
    "a=int(input(\"enter a number to be converted to binary :\"))\n",
    "print(a)\n",
    "print(\"corresponding binary number is : \", bin(a))\n"
   ]
  },
  {
   "cell_type": "code",
   "execution_count": 8,
   "id": "2d8db4fa-228d-46c5-8418-e7ecb0a45a3f",
   "metadata": {},
   "outputs": [
    {
     "name": "stdin",
     "output_type": "stream",
     "text": [
      "enter a number : 1\n"
     ]
    },
    {
     "data": {
      "text/plain": [
       "True"
      ]
     },
     "execution_count": 8,
     "metadata": {},
     "output_type": "execute_result"
    }
   ],
   "source": [
    "#convert a non zero number to boolean\n",
    "a=int(input(\"enter a number :\"))\n",
    "bool(a)\n"
   ]
  },
  {
   "cell_type": "code",
   "execution_count": null,
   "id": "51a65ef4-e65e-4f44-b304-cb893a3a42ea",
   "metadata": {},
   "outputs": [],
   "source": []
  }
 ],
 "metadata": {
  "kernelspec": {
   "display_name": "Python 3 (ipykernel)",
   "language": "python",
   "name": "python3"
  },
  "language_info": {
   "codemirror_mode": {
    "name": "ipython",
    "version": 3
   },
   "file_extension": ".py",
   "mimetype": "text/x-python",
   "name": "python",
   "nbconvert_exporter": "python",
   "pygments_lexer": "ipython3",
   "version": "3.10.8"
  }
 },
 "nbformat": 4,
 "nbformat_minor": 5
}
